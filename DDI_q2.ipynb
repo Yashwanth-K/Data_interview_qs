{
  "nbformat": 4,
  "nbformat_minor": 0,
  "metadata": {
    "colab": {
      "name": "DDI_q2.ipynb",
      "provenance": [],
      "collapsed_sections": [],
      "include_colab_link": true
    },
    "kernelspec": {
      "name": "python3",
      "display_name": "Python 3"
    }
  },
  "cells": [
    {
      "cell_type": "markdown",
      "metadata": {
        "id": "view-in-github",
        "colab_type": "text"
      },
      "source": [
        "<a href=\"https://colab.research.google.com/github/bhaveshwadhwani/Data_interview_qs/blob/master/DDI_q2.ipynb\" target=\"_parent\"><img src=\"https://colab.research.google.com/assets/colab-badge.svg\" alt=\"Open In Colab\"/></a>"
      ]
    },
    {
      "cell_type": "markdown",
      "metadata": {
        "id": "oZQ6tSNDGG0X",
        "colab_type": "text"
      },
      "source": [
        "Question from <a href=\"https://www.interviewqs.com\">Data Interview Qs</a>"
      ]
    },
    {
      "cell_type": "markdown",
      "metadata": {
        "id": "L6gxnICOGbY7",
        "colab_type": "text"
      },
      "source": [
        "\n",
        "\n",
        "---\n",
        "\n"
      ]
    },
    {
      "cell_type": "markdown",
      "metadata": {
        "id": "lAO1SIUeBtWI",
        "colab_type": "text"
      },
      "source": [
        "Suppose you are given a list of numbers, <b>J</b>, and a single number, <b>p</b>. \n",
        "\n",
        "Write a function to return the minimum and maximum averages of the sequences of p numbers in the list J.\n",
        "\n",
        "Example:\n",
        "\n",
        "<pre>\n",
        "J = [4, 4, 4, 9, 10, 11, 12]\n",
        "\n",
        "p = 3\n",
        "</pre>\n",
        "\n",
        "The sequences will be:\n",
        "<pre>\n",
        "\n",
        "(4,4,4)\n",
        "\n",
        "(4,4,9)\n",
        "\n",
        "(4,9,10)\n",
        "\n",
        "(9,10,11)\n",
        "\n",
        "(10,11,12)\n",
        "\n",
        "</pre>\n",
        "\n",
        "Here the minimum average will be 4 and the maximum average will be 11, which corresponds to the first and last sequences."
      ]
    },
    {
      "cell_type": "markdown",
      "metadata": {
        "id": "71qlS5ZZDBKE",
        "colab_type": "text"
      },
      "source": [
        "\n",
        "\n",
        "---\n",
        "\n"
      ]
    },
    {
      "cell_type": "code",
      "metadata": {
        "id": "VkT3IjIt-c3p",
        "colab_type": "code",
        "colab": {}
      },
      "source": [
        "J = [4, 4, 4, 9, 10, 11, 12]\n",
        "\n",
        "p = 3"
      ],
      "execution_count": 0,
      "outputs": []
    },
    {
      "cell_type": "code",
      "metadata": {
        "id": "jYKjHYam-eHF",
        "colab_type": "code",
        "colab": {
          "base_uri": "https://localhost:8080/",
          "height": 272
        },
        "outputId": "bb23361c-7067-42fb-8897-27d8582ccdd8"
      },
      "source": [
        "for i in range(len(J)-2):\n",
        "    print(\"Sequence: (\",J[i],J[i+1],J[i+2],\")\")\n",
        "    print(\"Moving average for sequence\",(J[i]+J[i+1]+J[i+2])/p,\"\\n\")"
      ],
      "execution_count": 3,
      "outputs": [
        {
          "output_type": "stream",
          "text": [
            "Sequence: ( 4 4 4 )\n",
            "Moving average for sequence 4.0 \n",
            "\n",
            "Sequence: ( 4 4 9 )\n",
            "Moving average for sequence 5.666666666666667 \n",
            "\n",
            "Sequence: ( 4 9 10 )\n",
            "Moving average for sequence 7.666666666666667 \n",
            "\n",
            "Sequence: ( 9 10 11 )\n",
            "Moving average for sequence 10.0 \n",
            "\n",
            "Sequence: ( 10 11 12 )\n",
            "Moving average for sequence 11.0 \n",
            "\n"
          ],
          "name": "stdout"
        }
      ]
    }
  ]
}